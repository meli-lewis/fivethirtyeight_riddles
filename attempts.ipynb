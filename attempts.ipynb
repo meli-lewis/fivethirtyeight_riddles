{
 "cells": [
  {
   "cell_type": "markdown",
   "metadata": {},
   "source": [
    "## August 5, 2018\n",
    "\n",
    "https://fivethirtyeight.com/features/the-eternal-question-how-much-do-these-apricots-weigh/\n",
    "\n",
    "> From Steve Gaukrodger, a small fruity puzzle:\n",
    ">\n",
    ">You loaded a drying shed containing 1,000 kilograms of apricots. They were 99 percent water. After a day in the shed, they are now 98 percent water. How much do the apricots weigh now?\""
   ]
  },
  {
   "cell_type": "code",
   "execution_count": 1,
   "metadata": {},
   "outputs": [],
   "source": [
    "kg_day1 = 1000\n",
    "water_pct = .99"
   ]
  },
  {
   "cell_type": "code",
   "execution_count": 2,
   "metadata": {},
   "outputs": [],
   "source": [
    "dry_matter = kg_day1-(kg_day1*water_pct)"
   ]
  },
  {
   "cell_type": "markdown",
   "metadata": {},
   "source": [
    "$$ kg\\_day2 * .02 = dry\\_matter$$\n",
    "\n",
    "$$\\frac{kg\\_day2 * .02}{.02} = \\frac{dry\\_matter}{.02}$$\n",
    "\n",
    "$$ x = \\frac{dry\\_matter}{.02} $$"
   ]
  },
  {
   "cell_type": "code",
   "execution_count": 4,
   "metadata": {},
   "outputs": [],
   "source": [
    "kg_day2 = dry_matter/.02"
   ]
  },
  {
   "cell_type": "code",
   "execution_count": 5,
   "metadata": {},
   "outputs": [
    {
     "data": {
      "text/plain": [
       "500.0"
      ]
     },
     "execution_count": 5,
     "metadata": {},
     "output_type": "execute_result"
    }
   ],
   "source": [
    "kg_day2"
   ]
  },
  {
   "cell_type": "markdown",
   "metadata": {},
   "source": [
    "This question was bothering me because I didn't know if they meant 99% by volume or mass, but that wound up being helpful for highlighting that its being mass allows us to extrapolate from the changing percentage of a constant value (10 kilograms of what I call here `dry_matter`) what the final weight should be!"
   ]
  }
 ],
 "metadata": {
  "kernelspec": {
   "display_name": "Python 3",
   "language": "python",
   "name": "python3"
  },
  "language_info": {
   "codemirror_mode": {
    "name": "ipython",
    "version": 3
   },
   "file_extension": ".py",
   "mimetype": "text/x-python",
   "name": "python",
   "nbconvert_exporter": "python",
   "pygments_lexer": "ipython3",
   "version": "3.6.4"
  }
 },
 "nbformat": 4,
 "nbformat_minor": 2
}
